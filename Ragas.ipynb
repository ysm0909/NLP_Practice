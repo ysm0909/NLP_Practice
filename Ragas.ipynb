{
  "nbformat": 4,
  "nbformat_minor": 0,
  "metadata": {
    "colab": {
      "private_outputs": true,
      "provenance": [],
      "authorship_tag": "ABX9TyOg30tsL7CwqrhRoGg0BQkp"
    },
    "kernelspec": {
      "name": "python3",
      "display_name": "Python 3"
    },
    "language_info": {
      "name": "python"
    }
  },
  "cells": [
    {
      "cell_type": "markdown",
      "source": [
        "# Metrics"
      ],
      "metadata": {
        "id": "W7SOS1UfgMre"
      }
    },
    {
      "cell_type": "markdown",
      "source": [
        "https://docs.ragas.io/en/stable/concepts/metrics/index.html"
      ],
      "metadata": {
        "id": "wA5kwupzgPlo"
      }
    },
    {
      "cell_type": "code",
      "source": [
        "'''\n",
        "!pip install datasets\n",
        "!pip install ragas\n",
        "!pip install transformers\n",
        "!pip install numpy\n",
        "!pip install scipy\n",
        "!pip install python-dotenv\n",
        "'''"
      ],
      "metadata": {
        "id": "QOCfw8J6hFtK"
      },
      "execution_count": null,
      "outputs": []
    },
    {
      "cell_type": "code",
      "source": [
        "from dotenv import load_dotenv\n",
        "import os\n",
        "\n",
        "load_dotenv()\n",
        "\n",
        "api_key = os.getenv(\"OPENAI_API_KEY\")"
      ],
      "metadata": {
        "id": "f-_6NI7diM7d"
      },
      "execution_count": null,
      "outputs": []
    },
    {
      "cell_type": "markdown",
      "source": [
        "## 1. Faithfulness"
      ],
      "metadata": {
        "id": "4ieE9gp8gZoY"
      }
    },
    {
      "cell_type": "code",
      "source": [
        "from datasets import load_dataset, Dataset\n",
        "from ragas.metrics import faithfulness\n",
        "from ragas import evaluate\n",
        "\n",
        "# 데이터셋 로드\n",
        "portmis_dataset = load_dataset(\"ysm99/port-mis-data-ver2\", split=\"train\")\n",
        "\n",
        "# data_samples 초기화\n",
        "data_samples = {\n",
        "    'question': [],\n",
        "    'answer': [],\n",
        "    'contexts': []\n",
        "}\n",
        "\n",
        "# 데이터 추가\n",
        "for row in portmis_dataset:\n",
        "    data_samples['question'].append(row['instruction'])\n",
        "    data_samples['answer'].append(row['output'])\n",
        "    data_samples['contexts'].append([row['input']])\n",
        "\n",
        "dataset = Dataset.from_dict(data_samples)\n",
        "score = evaluate(dataset,metrics=[faithfulness])\n",
        "score.to_pandas()"
      ],
      "metadata": {
        "id": "f41MB46SgNzu",
        "collapsed": true
      },
      "execution_count": null,
      "outputs": []
    },
    {
      "cell_type": "code",
      "source": [
        "score_df = score.to_pandas()\n",
        "\n",
        "# faithfulness 값 평균\n",
        "faithfulness_mean = score_df['faithfulness'].mean()\n",
        "print(f\"Faithfulness: {faithfulness_mean}\")"
      ],
      "metadata": {
        "id": "qY7U_uGzlcx9"
      },
      "execution_count": null,
      "outputs": []
    },
    {
      "cell_type": "markdown",
      "source": [
        "## 2. Answer Relevance"
      ],
      "metadata": {
        "id": "VZpCycdzj3JO"
      }
    },
    {
      "cell_type": "code",
      "source": [
        "from ragas.metrics import answer_relevancy\n",
        "\n",
        "score = evaluate(dataset,metrics=[answer_relevancy])\n",
        "score.to_pandas()"
      ],
      "metadata": {
        "collapsed": true,
        "id": "RBuUaFX1j2QE"
      },
      "execution_count": null,
      "outputs": []
    },
    {
      "cell_type": "code",
      "source": [
        "score_df = score.to_pandas()\n",
        "\n",
        "# answer_relevancy 값 평균\n",
        "answer_relevancy_mean = score_df['answer_relevancy'].mean()\n",
        "print(f\"Answer_relevancy: {answer_relevancy_mean}\")"
      ],
      "metadata": {
        "id": "TJAErv54mKlE"
      },
      "execution_count": null,
      "outputs": []
    },
    {
      "cell_type": "markdown",
      "source": [
        "## 3. Context Recall"
      ],
      "metadata": {
        "id": "oFUwdy5ZmlVk"
      }
    },
    {
      "cell_type": "code",
      "source": [
        "from datasets import load_dataset, Dataset\n",
        "from ragas.metrics import context_recall\n",
        "from ragas import evaluate\n",
        "\n",
        "# 데이터셋 로드\n",
        "portmis_dataset = load_dataset(\"ysm99/port-mis-data-ver2\", split=\"train\")\n",
        "\n",
        "# data_samples 초기화\n",
        "data_samples = {\n",
        "    'question': [],\n",
        "    'answer': [],\n",
        "    'contexts': [],\n",
        "    'ground_truth': []\n",
        "}\n",
        "\n",
        "# 데이터 추가\n",
        "for row in portmis_dataset:\n",
        "    data_samples['question'].append(row['instruction'])\n",
        "    data_samples['answer'].append(row['output'])\n",
        "    data_samples['contexts'].append([row['input']])\n",
        "    data_samples['ground_truth'].append(row['input'])\n",
        "\n",
        "dataset = Dataset.from_dict(data_samples)\n",
        "score = evaluate(dataset,metrics=[context_recall])\n",
        "score.to_pandas()"
      ],
      "metadata": {
        "collapsed": true,
        "id": "E5oeAhm5mmT4"
      },
      "execution_count": null,
      "outputs": []
    },
    {
      "cell_type": "code",
      "source": [
        "score_df = score.to_pandas()\n",
        "\n",
        "# context_recall 값 평균\n",
        "context_recall_mean = score_df['context_recall'].mean()\n",
        "print(f\"Context_recall: {context_recall_mean}\")"
      ],
      "metadata": {
        "id": "Gch2RrzZsUW2"
      },
      "execution_count": null,
      "outputs": []
    },
    {
      "cell_type": "markdown",
      "source": [
        "## 4. Context Precision"
      ],
      "metadata": {
        "id": "u8pakbU8tE2d"
      }
    },
    {
      "cell_type": "code",
      "source": [
        "from ragas.metrics import context_precision\n",
        "\n",
        "score = evaluate(dataset,metrics=[context_precision])\n",
        "score.to_pandas()"
      ],
      "metadata": {
        "collapsed": true,
        "id": "dJfxHcYQtFKr"
      },
      "execution_count": null,
      "outputs": []
    },
    {
      "cell_type": "code",
      "source": [
        "score_df = score.to_pandas()\n",
        "\n",
        "# context_precision 값 평균\n",
        "context_precision_mean = score_df['context_precision'].mean()\n",
        "print(f\"Context_precision: {context_precision_mean}\")"
      ],
      "metadata": {
        "id": "TCZfDAYKt5L5"
      },
      "execution_count": null,
      "outputs": []
    }
  ]
}