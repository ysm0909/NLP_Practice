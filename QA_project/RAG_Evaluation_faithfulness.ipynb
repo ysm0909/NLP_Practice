{
  "nbformat": 4,
  "nbformat_minor": 0,
  "metadata": {
    "colab": {
      "private_outputs": true,
      "provenance": [],
      "gpuType": "T4",
      "authorship_tag": "ABX9TyOJhYVUS+EVNALd6BQFVcKW"
    },
    "kernelspec": {
      "name": "python3",
      "display_name": "Python 3"
    },
    "language_info": {
      "name": "python"
    },
    "accelerator": "GPU"
  },
  "cells": [
    {
      "cell_type": "markdown",
      "source": [
        "참고：https://www.youtube.com/watch?v=5Huc8eoxaZQ"
      ],
      "metadata": {
        "id": "MpLnO2FFdLKP"
      }
    },
    {
      "cell_type": "code",
      "execution_count": null,
      "metadata": {
        "id": "5TUPJK-LPo7M"
      },
      "outputs": [],
      "source": [
        "#pip install ragas langsmith nest_asyncio"
      ]
    },
    {
      "cell_type": "code",
      "source": [
        "import nest_asyncio"
      ],
      "metadata": {
        "id": "S6BKw5rjPxDH"
      },
      "execution_count": null,
      "outputs": []
    },
    {
      "cell_type": "code",
      "source": [
        "nest_asyncio.apply()"
      ],
      "metadata": {
        "id": "on-ynkWcQQ2I"
      },
      "execution_count": null,
      "outputs": []
    },
    {
      "cell_type": "markdown",
      "source": [
        "# API Key 설정"
      ],
      "metadata": {
        "id": "oxVecNOyQX0M"
      }
    },
    {
      "cell_type": "code",
      "source": [
        "import os\n",
        "os.environ[\"OPENAI_API_KEY\"] = \"sk-\""
      ],
      "metadata": {
        "id": "Sk39FbW-QT16"
      },
      "execution_count": null,
      "outputs": []
    },
    {
      "cell_type": "code",
      "source": [
        "from uuid import uuid4\n",
        "\n",
        "unique_id = uuid4().hex[0:8]\n",
        "os.environ[\"LANGCHAIN_TRACING_V2\"]= \"true\"\n",
        "os.environ[\"LANGCHAIN_ENDPOINT\"]= \"https://eu.api.smith.langchain.com\"\n",
        "os.environ[\"LANGCHAIN_API_KEY\"]= \"ls-\"\n",
        "os.environ[\"LANGCHAIN_PROJECT\"]= f\"RAG Example - {unique_id}\""
      ],
      "metadata": {
        "id": "dptdrXzjObOQ"
      },
      "execution_count": null,
      "outputs": []
    },
    {
      "cell_type": "code",
      "source": [
        "unique_id"
      ],
      "metadata": {
        "id": "WDXQQxkcRmRT"
      },
      "execution_count": null,
      "outputs": []
    },
    {
      "cell_type": "markdown",
      "source": [
        "# 1.Faithfullness 성능 측정"
      ],
      "metadata": {
        "id": "uHippkJGS5HF"
      }
    },
    {
      "cell_type": "code",
      "source": [
        "from ragas.metrics import context_precision, answer_relevancy, faithfulness\n",
        "from ragas import evaluate"
      ],
      "metadata": {
        "id": "SQWHraZlSzDh"
      },
      "execution_count": null,
      "outputs": []
    },
    {
      "cell_type": "code",
      "source": [
        "from datasets import load_dataset,Dataset"
      ],
      "metadata": {
        "id": "CaxtU7Z1TI6G"
      },
      "execution_count": null,
      "outputs": []
    },
    {
      "cell_type": "code",
      "source": [
        "# 데이터셋 로드\n",
        "portmis_dataset = load_dataset(\"ysm99/port-mis-data-ver2\", split=\"train\")\n",
        "\n",
        "# data_samples 초기화\n",
        "data_samples = {\n",
        "    'question': [],\n",
        "    'answer': [],\n",
        "    'contexts': []\n",
        "}\n",
        "\n",
        "# 데이터 추가\n",
        "for row in portmis_dataset:\n",
        "    data_samples['question'].append(row['instruction'])\n",
        "    data_samples['answer'].append(row['output'])\n",
        "    data_samples['contexts'].append([row['input']])\n",
        "\n",
        "dataset = Dataset.from_dict(data_samples)"
      ],
      "metadata": {
        "id": "MV1N7LbUTQKh"
      },
      "execution_count": null,
      "outputs": []
    },
    {
      "cell_type": "code",
      "source": [
        "dataset"
      ],
      "metadata": {
        "id": "yROIZhk_VcdP"
      },
      "execution_count": null,
      "outputs": []
    },
    {
      "cell_type": "code",
      "source": [
        "result = evaluate(\n",
        "    dataset,\n",
        "    metrics=[faithfulness]\n",
        ")\n",
        "result"
      ],
      "metadata": {
        "id": "ScC1wmZ6VhfG"
      },
      "execution_count": null,
      "outputs": []
    },
    {
      "cell_type": "markdown",
      "source": [
        "{'faithfulness': 0.4508}"
      ],
      "metadata": {
        "id": "C3da1eJsYdCy"
      }
    }
  ]
}