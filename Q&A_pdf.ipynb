{
 "cells": [
  {
   "cell_type": "code",
   "execution_count": 2,
   "id": "d3d0beb7-2a58-4a0a-880c-e6ed5a7ee042",
   "metadata": {},
   "outputs": [],
   "source": [
    "import openai\n",
    "from langchain.document_loaders import PyPDFLoader\n",
    "import json"
   ]
  },
  {
   "cell_type": "code",
   "execution_count": 14,
   "id": "fdeee238-4edc-4999-ab49-06802472a2f8",
   "metadata": {},
   "outputs": [],
   "source": [
    "# OpenAI API 키 설정\n",
    "openai.api_key = '개인키작성'"
   ]
  },
  {
   "cell_type": "code",
   "execution_count": 9,
   "id": "5d6c9e6e-f4b0-41ab-ba3f-bcf96f2213a3",
   "metadata": {},
   "outputs": [],
   "source": [
    "def text_generator(prompt, model=\"gpt-3.5-turbo\", temperature=0):\n",
    "    messages = [\n",
    "        {\"role\": \"system\", \"content\": \"질문에 오류 혹은 잘못된 정보가 있는지 확인하고, 있다며 이것을 지적하고 수정한다.\"},\n",
    "        {\"role\": \"user\", \"content\": prompt}\n",
    "    ]\n",
    "    response = openai.chat.completions.create(\n",
    "        model=model,\n",
    "        messages=messages,\n",
    "        temperature=temperature,  # this is the degree of randomness of the model's output\n",
    "    )\n",
    "    answer = response.choices[0].message.content\n",
    "    return answer"
   ]
  },
  {
   "cell_type": "code",
   "execution_count": 10,
   "id": "d22d7f90-86b6-438c-b8b5-c2f7fe5bf215",
   "metadata": {},
   "outputs": [],
   "source": [
    "def get_arg_answer(query, verbose=False):\n",
    "    prompt = f\"\"\"\n",
    "    너는 선박평형수 관리와 관련된 규정을 준수해야 하는 선박 관리자야. 앞으로 문장이 들어오면 관련 규정에 대해 추가적으로 물어보고 싶은 질문 5개를 생성해줘. 예시를 제공할게.\n",
    "    질문을 생성하는 과정에서 관련 규정을 최대한 활용해도 괜찮아. 문장의 구분은 '/'로 진행해줘.\n",
    "    문장들을 구분하는데 있어서 숫자나 '/'를 제외한 기호가 있다면 제외하고 출력해.\n",
    "\n",
    "    ```\n",
    "    exemple\n",
    "    input : 방사능 오염 선박평형수 유입 차단 조치 안내\n",
    "    output : 평형수 배출 절차는 어떻게 되나요? / 평형수 교환 여부는 어떻게 검증하나요? / 자료 제출 시 주의사항은 무엇인가요? / 평형수 방사능 조사는 어떤 방법으로 이루어지나요? / 출항 전까지 어떤 자료를 제출해야 하나요?\n",
    "    ```\n",
    "    자 이제 너가 생성해야할 글을 제공해줄게\n",
    "    {query}\n",
    "    \"\"\"\n",
    "    if verbose:\n",
    "        print(f'Prompt: {prompt}')\n",
    "    answer = text_generator(prompt)\n",
    "    return answer"
   ]
  },
  {
   "cell_type": "code",
   "execution_count": 11,
   "id": "cd26dc0f-1875-4fd0-a7a5-1e914e361325",
   "metadata": {},
   "outputs": [],
   "source": [
    "def get_gen_answer(questions, verbose=False):\n",
    "    questions_list = questions.split(\" / \")\n",
    "    answers = []\n",
    "    for question in questions_list:\n",
    "        prompt = f\"\"\"\n",
    "        너는 선박평형수 관리와 관련된 규정을 잘 아는 전문가야. 앞으로 문장이 들어오면 관련 규정에 대해 전문가로서 답변을 해줘.\n",
    "        빠르게 답변할 필요 없이 생각하고 답변을 출력해줘.\n",
    "        관련 규정과 사전 지식을 최대한 활용하여 답변을 출력해.\n",
    "\n",
    "        출력물의 최대 문자 길이는 300자로 제한할게.\n",
    "        답변을 최대 문자 길이 내로 축약해서 전달해줘.\n",
    "\n",
    "        자 이제 너가 답변해야할 글을 제공해줄게\n",
    "        {question}\n",
    "        \"\"\"\n",
    "        if verbose:\n",
    "            print(f'Prompt for question \"{question}\": {prompt}')\n",
    "        answer = text_generator(prompt)\n",
    "        answers.append(answer)\n",
    "    return answers"
   ]
  },
  {
   "cell_type": "code",
   "execution_count": 12,
   "id": "33b620a9-af7a-4339-9fa2-a225de418ff4",
   "metadata": {},
   "outputs": [],
   "source": [
    "def generate_qa_from_pdf(pdf_path, verbose=False):\n",
    "    loader = PyPDFLoader(pdf_path)\n",
    "    docs = loader.load()\n",
    "\n",
    "    text = \" \".join([page.page_content for page in docs])\n",
    "    \n",
    "    questions = get_arg_answer(text, verbose=verbose)\n",
    "    answers = get_gen_answer(questions, verbose=verbose)\n",
    "\n",
    "    return questions, answers"
   ]
  },
  {
   "cell_type": "code",
   "execution_count": 13,
   "id": "b003c1b0-4dba-4c6b-8a34-04504e84366c",
   "metadata": {},
   "outputs": [
    {
     "name": "stdout",
     "output_type": "stream",
     "text": [
      "[\n",
      "  {\n",
      "    \"QUESTION\": \"평형수 배출 절차는 어떻게 되나요?\",\n",
      "    \"ANSWER\": \"평형수 배출 절차는 선박평형수 관리 규정에 따라 정해진다. 보통 선박은 항구에 도착하거나 떠날 때, 평형수를 배출해야 한다. 이때 선박은 해당 규정에 따라 평형수를 처리하고 배출해야 한다. 평형수 배출 시에는 환경오염을 최소화하기 위해 주의해야 하며, 규정을 준수해야 한다. 선박평형수 관리 규정은 국제해사기구(IMO)의 규정에 따라 정해지며, 각 국가별로 이를 준수해야 한다.\"\n",
      "  },\n",
      "  {\n",
      "    \"QUESTION\": \"평형수 교환 여부는 어떻게 검증하나요?\",\n",
      "    \"ANSWER\": \"평형수 교환 여부는 선박의 국제해사기구(IMO) 규정에 따라 검증됩니다. 선박은 항구에 도착하기 전에 선박평형수 보고서를 작성하여 해당 규정을 준수하는지 확인해야 합니다. 이 보고서에는 선박의 평형수 교환 여부, 교환 시기, 위치, 양 등이 상세히 기록되어 있어야 합니다. 선박은 이 보고서를 항구 당국에 제출하여 검증을 받게 됩니다. 평형수 교환은 환경오염을 최소화하기 위한 중요한 절차이므로 규정을 엄격히 준수해야 합니다.\"\n",
      "  },\n",
      "  {\n",
      "    \"QUESTION\": \"자료 제출 시 주의사항은 무엇인가요?\",\n",
      "    \"ANSWER\": \"선박평형수 관리와 관련된 규정에서 자료 제출 시 주의사항은 다음과 같습니다. 먼저, 자료는 정확하고 신속하게 제출되어야 합니다. 또한, 제출된 자료는 해당 규정에 맞게 작성되어야 하며, 필요한 모든 정보가 포함되어야 합니다. 불필요한 정보는 제외해야 하며, 자료의 왜곡이나 조작은 엄격히 금지됩니다. 끝으로, 자료 제출 기한을 엄수해야 하며, 필요한 경우 추가 문서나 설명을 첨부해야 합니다. 이러한 주의사항을 준수하여 자료를 제출해야 합니다.\"\n",
      "  },\n",
      "  {\n",
      "    \"QUESTION\": \"평형수 방사능 조사는 어떤 방법으로 이루어지나요?\",\n",
      "    \"ANSWER\": \"평형수 방사능 조사는 선박평형수 교환 시 수질을 모니터링하는 과정 중 하나입니다. 주로 방사능 물질인 Cs-137과 Cs-134를 측정하여 수질을 평가합니다. 이를 위해 일반적으로 γ선 검출기를 사용하여 방사능 물질의 농도를 측정하고, 이를 토대로 방사능 수치를 분석합니다. 또한, 방사능 물질의 농도가 안전 기준을 초과할 경우 적절한 대응 조치를 취하게 됩니다.\"\n",
      "  },\n",
      "  {\n",
      "    \"QUESTION\": \"출항 전까지 어떤 자료를 제출해야 하나요?\",\n",
      "    \"ANSWER\": \"선박이 출항 전에는 다양한 자료를 제출해야 합니다. 이에는 선박의 안전 및 운항 정보를 확인할 수 있는 선박운항계획, 선박의 안전성을 검토하는 선박검사보고서, 선박의 선원 및 승객 안전을 보장하는 선박안전계획서, 그리고 선박의 환경적 영향을 평가하는 선박환경영향평가서 등이 포함됩니다. 이 자료들은 해당 규정에 따라 출항 전에 제출되어야 합니다.\"\n",
      "  }\n",
      "]\n"
     ]
    }
   ],
   "source": [
    "pdf_path = \"D:/[24]ICT_Practice/practice_file/ex1.pdf\"\n",
    "questions, answers = generate_qa_from_pdf(pdf_path)\n",
    "\n",
    "qa_pairs = [{\"QUESTION\": q, \"ANSWER\": a} for q, a in zip(questions.split(\" / \"), answers)]\n",
    "\n",
    "print(json.dumps(qa_pairs, ensure_ascii=False, indent=2))"
   ]
  }
 ],
 "metadata": {
  "kernelspec": {
   "display_name": "langchainenv",
   "language": "python",
   "name": "langchainenv"
  },
  "language_info": {
   "codemirror_mode": {
    "name": "ipython",
    "version": 3
   },
   "file_extension": ".py",
   "mimetype": "text/x-python",
   "name": "python",
   "nbconvert_exporter": "python",
   "pygments_lexer": "ipython3",
   "version": "3.12.3"
  }
 },
 "nbformat": 4,
 "nbformat_minor": 5
}
