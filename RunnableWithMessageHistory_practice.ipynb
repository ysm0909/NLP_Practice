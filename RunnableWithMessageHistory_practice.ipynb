{
 "cells": [
  {
   "cell_type": "markdown",
   "id": "084ce5c2-e45f-490b-9e8b-666ad9a83bab",
   "metadata": {},
   "source": [
    "# 튜토리얼"
   ]
  },
  {
   "cell_type": "code",
   "execution_count": 2,
   "id": "8aaf5e7e-c189-40a2-9652-3cd2290c8e30",
   "metadata": {},
   "outputs": [],
   "source": [
    "from langchain_core.prompts import ChatPromptTemplate, MessagesPlaceholder\n",
    "from langchain_openai import ChatOpenAI\n",
    "\n",
    "model = ChatOpenAI(api_key=\"sk-\")\n",
    "prompt = ChatPromptTemplate.from_messages(\n",
    "    [\n",
    "        (\n",
    "            \"system\",\n",
    "            \"당신은 {ability} 에 능숙한 어시스턴트입니다. 20자 이내로 응답하세요\",\n",
    "        ),\n",
    "        # 대화 기록을 변수로 사용, history 가 MessageHistory 의 key 가 됨\n",
    "        MessagesPlaceholder(variable_name=\"history\"),\n",
    "        (\"human\", \"{input}\"),  # 사용자 입력을 변수로 사용\n",
    "    ]\n",
    ")\n",
    "runnable = prompt | model  # 프롬프트와 모델을 연결하여 runnable 객체 생성"
   ]
  },
  {
   "cell_type": "markdown",
   "id": "8090a0e4-f20c-445c-ab30-c8d274103f2d",
   "metadata": {},
   "source": [
    "- 메시지 기록을 관리하는 것은 대화형 애플리케이션 또는 복잡한 데이터 처리 작업에서 매우 중요\n",
    "- 메시지 기록을 효과적으로 관리하려면 다음 두 가지 주요 요소 필요\n",
    "\n",
    "1. Runnable: 주로 Retriever, Chain 과 같이 BaseChatMessageHistory 와 상호작용하는 runnable 객체\n",
    "2. BaseChatMessageHistory의 인스턴스를 반환하는 호출 가능한 객체(callable):\n",
    "    - 메시지 기록을 관리하기 위한 객체\n",
    "    - 이 객체는 메시지 기록을 저장, 검색, 업데이트하는 데 사용됩\n",
    "    - 메시지 기록은 대화의 맥락을 유지하고, 사용자의 이전 입력에 기반한 응답을 생성하는 데 필요\n",
    "\n",
    "- 메시지 기록을 구현하는 데에는 여러 방법이 있으며, memory integrations 페이지에는 다양한 저장소 옵션과 통합 방법이 소개되어 있음"
   ]
  },
  {
   "cell_type": "markdown",
   "id": "0ca5451a-58ab-4985-b5c3-3c94c73b43f0",
   "metadata": {},
   "source": [
    "<두 가지 주요 방법>\n",
    "\n",
    "1. 인메모리 ChatMessageHistory 사용\n",
    "    - 이 방법은 메모리 내에서 메시지 기록을 관리. \n",
    "    - 주로 개발 단계나 간단한 애플리케이션에서 사용\n",
    "    - 인메모리 방식은 빠른 접근 속도를 제공\n",
    "    - 단점: 애플리케이션을 재시작할 때 메시지 기록이 사라지는 단점\n",
    "\n",
    "2. RedisChatMessageHistory를 사용하여 영구적인 저장소 활용\n",
    "    - Redis를 사용하는 방법은 메시지 기록을 영구적으로 저장 가능\n",
    "    - Redis는 높은 성능을 제공하는 오픈 소스 인메모리 데이터 구조 저장소\n",
    "        - 분산 환경에서도 안정적으로 메시지 기록을 관리 가능\n",
    "    - 이 방법은 복잡한 애플리케이션 또는 장기간 운영되는 서비스에 적합\n",
    "\n",
    "- 메시지 기록을 관리하는 방법을 선택할 때는 애플리케이션의 요구사항, 예상되는 트래픽 양, 메시지 데이터의 중요성 및 보존 기간 등을 고려해야 함. \n",
    "- 인메모리 방식은 구현이 간단하고 빠르지만, 데이터의 영구성이 요구되는 경우 Redis와 같은 영구적인 저장소를 사용하는 것이 더 적합할 수 있음."
   ]
  },
  {
   "cell_type": "markdown",
   "id": "6ee8eccd-c1cd-431a-970f-c2fc0b8686d6",
   "metadata": {},
   "source": [
    "# 휘발성 대화기록: 인메모리(In-Memory)"
   ]
  },
  {
   "cell_type": "markdown",
   "id": "35e204ea-327a-45d2-86e6-a017107cc229",
   "metadata": {},
   "source": [
    "<채팅 기록이 메모리에 저장되는 간단한 예시>\n",
    "\n",
    "- RunnableWithMessageHistory 설정 매개변수\n",
    "    - runnable\n",
    "    - BaseChatMessageHistory 이거나 상속받은 객체. ex) ChatMessageHistory\n",
    "    - input_messages_key: chain 을 invoke() 할때 사용자 쿼리 입력으로 지정하는 key\n",
    "    - history_messages_key: 대화 기록으로 지정하는 key"
   ]
  },
  {
   "cell_type": "code",
   "execution_count": 4,
   "id": "34f40932-1967-496d-af5d-d7925da7f04c",
   "metadata": {},
   "outputs": [],
   "source": [
    "from langchain_community.chat_message_histories import ChatMessageHistory\n",
    "from langchain_core.chat_history import BaseChatMessageHistory\n",
    "from langchain_core.runnables.history import RunnableWithMessageHistory\n",
    "\n",
    "store = {}  # 세션 기록을 저장할 딕셔너리\n",
    "\n",
    "\n",
    "# 세션 ID를 기반으로 세션 기록을 가져오는 함수\n",
    "def get_session_history(session_ids: str) -> BaseChatMessageHistory:\n",
    "    print(session_ids)\n",
    "    if session_ids not in store:  # 세션 ID가 store에 없는 경우\n",
    "        # 새로운 ChatMessageHistory 객체를 생성하여 store에 저장\n",
    "        store[session_ids] = ChatMessageHistory()\n",
    "    return store[session_ids]  # 해당 세션 ID에 대한 세션 기록 반환\n",
    "\n",
    "\n",
    "with_message_history = (\n",
    "    RunnableWithMessageHistory(  # RunnableWithMessageHistory 객체 생성\n",
    "        runnable,  # 실행할 Runnable 객체\n",
    "        get_session_history,  # 세션 기록을 가져오는 함수\n",
    "        input_messages_key=\"input\",  # 입력 메시지의 키\n",
    "        history_messages_key=\"history\",  # 기록 메시지의 키\n",
    "    )\n",
    ")"
   ]
  },
  {
   "cell_type": "markdown",
   "id": "3fb43b2e-2f22-47d2-b5d2-0fb2b83a4380",
   "metadata": {},
   "source": [
    "- input_messages_key: 최신 입력 메시지로 처리될 키 지정\n",
    "- history_messages_key: 이전 메시지를 추가할 키 지정\n",
    "\n",
    "- 다음의 코드를 보면 RunnableWithMessageHistory 의 초기값에 session_id 키를 Default 로 삽입하는 것을 볼 수 있으며, </br>이 코드로 인하여 RunnableWithMessageHistory 는 대화 스레드 관리를 session_id 로 한다는 것을 간접적으로 파악할 수 있음.\n",
    "\n",
    "- 즉, 대화 스레드별 관리는 session_id 별로 구현함을 알 수 있음."
   ]
  },
  {
   "cell_type": "code",
   "execution_count": 5,
   "id": "3e50c825-d171-4504-9292-7329c37dcd30",
   "metadata": {},
   "outputs": [
    {
     "name": "stdout",
     "output_type": "stream",
     "text": [
      "abc123\n"
     ]
    },
    {
     "data": {
      "text/plain": [
       "AIMessage(content='Cosine is a trigonometric function that represents the ratio of the adjacent side to the hypotenuse in a right triangle.', response_metadata={'token_usage': {'completion_tokens': 26, 'prompt_tokens': 47, 'total_tokens': 73}, 'model_name': 'gpt-3.5-turbo-0125', 'system_fingerprint': None, 'finish_reason': 'stop', 'logprobs': None}, id='run-b367fe41-0d0d-4dd5-8d56-abd57f6fbb0c-0', usage_metadata={'input_tokens': 47, 'output_tokens': 26, 'total_tokens': 73})"
      ]
     },
     "execution_count": 5,
     "metadata": {},
     "output_type": "execute_result"
    }
   ],
   "source": [
    "with_message_history.invoke(\n",
    "    # 수학 관련 질문 \"코사인의 의미는 무엇인가요?\"를 입력으로 전달합니다.\n",
    "    {\"ability\": \"math\", \"input\": \"What does cosine mean?\"},\n",
    "    # 설정 정보로 세션 ID \"abc123\"을 전달합니다.\n",
    "    config={\"configurable\": {\"session_id\": \"abc123\"}},\n",
    ")"
   ]
  },
  {
   "cell_type": "markdown",
   "id": "ad74011f-d48c-4b25-8927-7a735c6b550d",
   "metadata": {},
   "source": [
    "-> 같은 session_id 를 입력하면 이전 대화 스레드의 내용을 가져오기 때문에 이어서 대화 가능"
   ]
  },
  {
   "cell_type": "code",
   "execution_count": 6,
   "id": "753c8d6c-2f56-44f1-a6e0-ef0f437beb67",
   "metadata": {},
   "outputs": [
    {
     "name": "stdout",
     "output_type": "stream",
     "text": [
      "abc123\n"
     ]
    },
    {
     "data": {
      "text/plain": [
       "AIMessage(content='코사인은 직각삼각형에서 인접 변의 길이를 빗변의 길이로 나타내는 삼각함수입니다.', response_metadata={'token_usage': {'completion_tokens': 49, 'prompt_tokens': 98, 'total_tokens': 147}, 'model_name': 'gpt-3.5-turbo-0125', 'system_fingerprint': None, 'finish_reason': 'stop', 'logprobs': None}, id='run-8e9183b7-22e1-429a-a25c-fdd6b16cca4d-0', usage_metadata={'input_tokens': 98, 'output_tokens': 49, 'total_tokens': 147})"
      ]
     },
     "execution_count": 6,
     "metadata": {},
     "output_type": "execute_result"
    }
   ],
   "source": [
    "# 메시지 기록을 포함하여 호출합니다.\n",
    "with_message_history.invoke(\n",
    "    # 능력과 입력을 설정합니다.\n",
    "    {\"ability\": \"math\", \"input\": \"이전의 내용을 한글로 답변해 주세요.\"},\n",
    "    # 설정 옵션을 지정합니다.\n",
    "    config={\"configurable\": {\"session_id\": \"abc123\"}},\n",
    ")"
   ]
  },
  {
   "cell_type": "markdown",
   "id": "6ff71551-b07a-4e15-86e6-4952045dc33f",
   "metadata": {},
   "source": [
    "-> 다른 session_id 를 지정하면 대화기록이 없기 때문에 답변을 제대로 수행X"
   ]
  },
  {
   "cell_type": "code",
   "execution_count": 8,
   "id": "92628f2b-47ea-432b-8579-d0f2b278e8ec",
   "metadata": {},
   "outputs": [
    {
     "name": "stdout",
     "output_type": "stream",
     "text": [
      "def234\n"
     ]
    },
    {
     "data": {
      "text/plain": [
       "AIMessage(content='수학에 능숙한 어시스턴트입니다.', response_metadata={'token_usage': {'completion_tokens': 19, 'prompt_tokens': 58, 'total_tokens': 77}, 'model_name': 'gpt-3.5-turbo-0125', 'system_fingerprint': None, 'finish_reason': 'stop', 'logprobs': None}, id='run-49bfc8b7-8ab4-449c-bd05-dcf5cee32d1f-0', usage_metadata={'input_tokens': 58, 'output_tokens': 19, 'total_tokens': 77})"
      ]
     },
     "execution_count": 8,
     "metadata": {},
     "output_type": "execute_result"
    }
   ],
   "source": [
    "# 새로운 session_id로 인해 이전 대화 내용을 기억하지 않습니다.\n",
    "with_message_history.invoke(\n",
    "    # 수학 능력과 입력 메시지를 전달합니다.\n",
    "    {\"ability\": \"math\", \"input\": \"이전의 내용을 한글로 답변해 주세요\"},\n",
    "    # 새로운 session_id를 설정합니다.\n",
    "    config={\"configurable\": {\"session_id\": \"def234\"}},\n",
    ")"
   ]
  },
  {
   "cell_type": "markdown",
   "id": "2ec2c4bd-c807-4b6c-8e95-d1d2ecb51443",
   "metadata": {},
   "source": [
    "-> session_id: def234 는 존재하지 않기 때문에 엉뚱한 답변을 하는 것을 확인 가능"
   ]
  },
  {
   "cell_type": "markdown",
   "id": "e02bcdf7-16a9-4b6c-b8d6-7aaabe367650",
   "metadata": {},
   "source": [
    "- 메시지 기록을 추적하는 데 사용되는 구성 매개변수는 ConfigurableFieldSpec 객체의 리스트를 history_factory_config 매개변수로 전달하여 사용자 정의할 수 있음.\n",
    "\n",
    "- history_factory_config 를 새로 설정하게 되면 기존 session_id 설정을 덮어쓰게 됨."
   ]
  },
  {
   "cell_type": "markdown",
   "id": "7672ea29-fc19-4c0a-90f3-5fbff9747412",
   "metadata": {},
   "source": [
    "<아래 예시> \n",
    "- user_id와 conversation_id라는 두 가지 매개변수 사용"
   ]
  },
  {
   "cell_type": "code",
   "execution_count": 10,
   "id": "5ab73767-ad14-4dae-9af6-2161fc7b9d97",
   "metadata": {},
   "outputs": [],
   "source": [
    "from langchain_core.runnables import ConfigurableFieldSpec\n",
    "\n",
    "store = {}  # 빈 딕셔너리를 초기화합니다.\n",
    "\n",
    "\n",
    "def get_session_history(user_id: str, conversation_id: str) -> BaseChatMessageHistory:\n",
    "    # 주어진 user_id와 conversation_id에 해당하는 세션 기록을 반환합니다.\n",
    "    if (user_id, conversation_id) not in store:\n",
    "        # 해당 키가 store에 없으면 새로운 ChatMessageHistory를 생성하여 저장합니다.\n",
    "        store[(user_id, conversation_id)] = ChatMessageHistory()\n",
    "    return store[(user_id, conversation_id)]\n",
    "\n",
    "\n",
    "with_message_history = RunnableWithMessageHistory(\n",
    "    runnable,\n",
    "    get_session_history,\n",
    "    input_messages_key=\"input\",\n",
    "    history_messages_key=\"history\",\n",
    "    history_factory_config=[  # 기존의 \"session_id\" 설정을 대체하게 됩니다.\n",
    "        ConfigurableFieldSpec(\n",
    "            id=\"user_id\",  # get_session_history 함수의 첫 번째 인자로 사용됩니다.\n",
    "            annotation=str,\n",
    "            name=\"User ID\",\n",
    "            description=\"사용자의 고유 식별자입니다.\",\n",
    "            default=\"\",\n",
    "            is_shared=True,\n",
    "        ),\n",
    "        ConfigurableFieldSpec(\n",
    "            id=\"conversation_id\",  # get_session_history 함수의 두 번째 인자로 사용됩니다.\n",
    "            annotation=str,\n",
    "            name=\"Conversation ID\",\n",
    "            description=\"대화의 고유 식별자입니다.\",\n",
    "            default=\"\",\n",
    "            is_shared=True,\n",
    "        ),\n",
    "    ],\n",
    ")"
   ]
  },
  {
   "cell_type": "code",
   "execution_count": 11,
   "id": "e1f7d211-1581-43c1-aa6f-e8f00fbc4b49",
   "metadata": {},
   "outputs": [
    {
     "data": {
      "text/plain": [
       "AIMessage(content='Trigonometric function relates to the adjacent side over the hypotenuse in a right triangle.', response_metadata={'token_usage': {'completion_tokens': 19, 'prompt_tokens': 46, 'total_tokens': 65}, 'model_name': 'gpt-3.5-turbo-0125', 'system_fingerprint': None, 'finish_reason': 'stop', 'logprobs': None}, id='run-7182da0c-11d9-4af3-94f0-c9e7b80f7cb5-0', usage_metadata={'input_tokens': 46, 'output_tokens': 19, 'total_tokens': 65})"
      ]
     },
     "execution_count": 11,
     "metadata": {},
     "output_type": "execute_result"
    }
   ],
   "source": [
    "with_message_history.invoke(\n",
    "    # 능력(ability)과 입력(input)을 포함한 딕셔너리를 전달합니다.\n",
    "    {\"ability\": \"math\", \"input\": \"what is cosine?\"},\n",
    "    # 설정(config) 딕셔너리를 전달합니다.\n",
    "    config={\"configurable\": {\"user_id\": \"123\", \"conversation_id\": \"abc\"}},\n",
    ")"
   ]
  },
  {
   "cell_type": "code",
   "execution_count": 12,
   "id": "36a2a249-25d5-456d-9426-530db78d2454",
   "metadata": {},
   "outputs": [],
   "source": [
    "answer = with_message_history.invoke(\n",
    "    # 능력(ability)과 입력(input)을 포함한 딕셔너리를 전달합니다.\n",
    "    {\"ability\": \"math\", \"input\": \"이전의 답변을 한글로 작성해 주세요\"},\n",
    "    # 설정(config) 딕셔너리를 전달합니다.\n",
    "    config={\"configurable\": {\"user_id\": \"123\", \"conversation_id\": \"abc\"}},\n",
    ")"
   ]
  },
  {
   "cell_type": "markdown",
   "id": "523fe9b6-ebe9-44c0-b7b1-0ea69dc73884",
   "metadata": {},
   "source": [
    "# 다양한 Key를 사용한 Runnable 을 사용한 예시"
   ]
  },
  {
   "cell_type": "markdown",
   "id": "a25e62a5-ae87-48b3-893c-eca669ad4474",
   "metadata": {},
   "source": [
    "## 1. Messages 객체를 입력, dict 형태의 출력"
   ]
  },
  {
   "cell_type": "markdown",
   "id": "20f4e44b-7b46-483c-95f7-1b3dae6c7092",
   "metadata": {},
   "source": [
    "메시지를 입력으로 받고 딕셔너리를 출력으로 반환하는 경우"
   ]
  },
  {
   "cell_type": "markdown",
   "id": "af4df4d4-f3f2-4345-bbc3-d4071013b8b8",
   "metadata": {},
   "source": [
    "- [중요]: input_messages_key=\"input\" 을 생략 -> 입력으로 Message 객체를 넣도록 설정"
   ]
  },
  {
   "cell_type": "code",
   "execution_count": 18,
   "id": "413beadd-4af6-479d-afb2-129c798c779b",
   "metadata": {},
   "outputs": [
    {
     "data": {
      "text/plain": [
       "{'output_message': AIMessage(content='In mathematics, the cosine of an angle in a right-angled triangle is defined as the ratio of the length of the side adjacent to the angle to the length of the hypotenuse. It can also be defined as the x-coordinate of a point on the unit circle that is formed by the angle. The cosine function is denoted as cos and is commonly used in trigonometry to calculate angles and distances in geometric problems.', response_metadata={'token_usage': {'completion_tokens': 86, 'prompt_tokens': 14, 'total_tokens': 100}, 'model_name': 'gpt-3.5-turbo-0125', 'system_fingerprint': None, 'finish_reason': 'stop', 'logprobs': None}, id='run-86429a88-9928-4dfa-af68-9f916b6e0c89-0', usage_metadata={'input_tokens': 14, 'output_tokens': 86, 'total_tokens': 100})}"
      ]
     },
     "execution_count": 18,
     "metadata": {},
     "output_type": "execute_result"
    }
   ],
   "source": [
    "from langchain_core.messages import HumanMessage\n",
    "from langchain_core.runnables import RunnableParallel\n",
    "\n",
    "# chain 생성\n",
    "chain = RunnableParallel({\"output_message\": ChatOpenAI(api_key=\"sk-\")})\n",
    "\n",
    "\n",
    "def get_session_history(session_id: str) -> BaseChatMessageHistory:\n",
    "    # 세션 ID에 해당하는 대화 기록이 저장소에 없으면 새로운 ChatMessageHistory를 생성합니다.\n",
    "    if session_id not in store:\n",
    "        store[session_id] = ChatMessageHistory()\n",
    "    # 세션 ID에 해당하는 대화 기록을 반환합니다.\n",
    "    return store[session_id]\n",
    "\n",
    "\n",
    "# 체인에 대화 기록 기능을 추가한 RunnableWithMessageHistory 객체를 생성합니다.\n",
    "with_message_history = RunnableWithMessageHistory(\n",
    "    chain,\n",
    "    get_session_history,\n",
    "    # 입력 메시지의 키를 \"input\"으로 설정합니다.(생략시 Message 객체로 입력)\n",
    "    # input_messages_key=\"input\",\n",
    "    # 출력 메시지의 키를 \"output_message\"로 설정합니다. (생략시 Message 객체로 출력)\n",
    "    output_messages_key=\"output_message\",\n",
    ")\n",
    "\n",
    "# 주어진 메시지와 설정으로 체인을 실행합니다.\n",
    "with_message_history.invoke(\n",
    "    # 혹은 \"what is the definition of cosine?\" 도 가능\n",
    "    [HumanMessage(content=\"what is the definition of cosine?\")],\n",
    "    config={\"configurable\": {\"session_id\": \"abc123\"}},\n",
    ")"
   ]
  },
  {
   "cell_type": "code",
   "execution_count": 19,
   "id": "56d45d6b-a5d9-49e9-806e-df6540b7ce5c",
   "metadata": {},
   "outputs": [
    {
     "data": {
      "text/plain": [
       "{'output_message': AIMessage(content='수학에서 직각삼각형의 각의 코사인은 해당 각에 인접한 변의 길이와 빗변의 길이의 비로 정의됩니다. 또한 각에 해당하는 단위 원상의 점의 x-좌표로 정의될 수도 있습니다. 코사인 함수는 cos로 표시되며, 기하학적 문제에서 각과 거리를 계산하는 데 트리곤메트리에 널리 사용됩니다.', response_metadata={'token_usage': {'completion_tokens': 142, 'prompt_tokens': 125, 'total_tokens': 267}, 'model_name': 'gpt-3.5-turbo-0125', 'system_fingerprint': None, 'finish_reason': 'stop', 'logprobs': None}, id='run-45c9d4c7-01b5-4dd6-b831-8a14cb983a65-0', usage_metadata={'input_tokens': 125, 'output_tokens': 142, 'total_tokens': 267})}"
      ]
     },
     "execution_count": 19,
     "metadata": {},
     "output_type": "execute_result"
    }
   ],
   "source": [
    "with_message_history.invoke(\n",
    "    # 이전의 답변에 대하여 한글로 답변을 재요청합니다.\n",
    "    [HumanMessage(content=\"이전의 내용을 한글로 답변해 주세요!\")],\n",
    "    # 설정 옵션을 딕셔너리 형태로 전달합니다.\n",
    "    config={\"configurable\": {\"session_id\": \"abc123\"}},\n",
    ")"
   ]
  },
  {
   "cell_type": "markdown",
   "id": "047a027b-2909-4bac-b960-4d53bab04c26",
   "metadata": {},
   "source": [
    "## 2. Messages 객체를 입력, Messages 객체의 출력"
   ]
  },
  {
   "cell_type": "markdown",
   "id": "99b50376-8e54-457b-8d07-46190063f57d",
   "metadata": {},
   "source": [
    "- [중요]: output_messages_key=\"output_message\" 생략 -> 출력으로 Message 객체 반환"
   ]
  },
  {
   "cell_type": "code",
   "execution_count": 21,
   "id": "e893a67c-940d-4db6-83dd-6ec891bf9464",
   "metadata": {},
   "outputs": [],
   "source": [
    "with_message_history = RunnableWithMessageHistory(\n",
    "    ChatOpenAI(api_key=\"sk-\"),  # ChatOpenAI 언어 모델을 사용합니다.\n",
    "    get_session_history,  # 대화 세션 기록을 가져오는 함수를 지정합니다.\n",
    "    # 입력 메시지의 키를 \"input\"으로 설정합니다.(생략시 Message 객체로 입력)\n",
    "    # input_messages_key=\"input\",\n",
    "    # 출력 메시지의 키를 \"output_message\"로 설정합니다. (생략시 Message 객체로 출력)\n",
    "    # output_messages_key=\"output_message\",\n",
    ")"
   ]
  },
  {
   "cell_type": "code",
   "execution_count": 22,
   "id": "b24e31db-cae1-467e-ad36-2a6e855ade4f",
   "metadata": {},
   "outputs": [
    {
     "data": {
      "text/plain": [
       "AIMessage(content='코사인은 삼각함수 중 하나로, 직각삼각형에서의 각도에 대한 변화를 나타내는 함수입니다. 코사인은 직각삼각형에서 빗변과 인접변의 길이의 비율을 나타내며, 주어진 각도에 대한 코사인 값은 삼각형에서의 해당 변들의 길이에 의해 결정됩니다. 코사인 함수는 주기적이며, -1과 1 사이의 값을 가집니다.', response_metadata={'token_usage': {'completion_tokens': 156, 'prompt_tokens': 24, 'total_tokens': 180}, 'model_name': 'gpt-3.5-turbo-0125', 'system_fingerprint': None, 'finish_reason': 'stop', 'logprobs': None}, id='run-0358a6df-6bcb-4adc-a660-f59d78b1aeb0-0', usage_metadata={'input_tokens': 24, 'output_tokens': 156, 'total_tokens': 180})"
      ]
     },
     "execution_count": 22,
     "metadata": {},
     "output_type": "execute_result"
    }
   ],
   "source": [
    "with_message_history.invoke(\n",
    "    # 이전의 답변에 대하여 한글로 답변을 재요청합니다.\n",
    "    [HumanMessage(content=\"코사인의 의미는 무엇인가요?\")],\n",
    "    # 설정 옵션을 딕셔너리 형태로 전달합니다.\n",
    "    config={\"configurable\": {\"session_id\": \"def123\"}},\n",
    ")"
   ]
  },
  {
   "cell_type": "markdown",
   "id": "39fc2908-28d3-46bb-a147-619222a99576",
   "metadata": {},
   "source": [
    "## 3. 모든 메시지 입력과 출력을 위한 단일 키를 가진 Dict"
   ]
  },
  {
   "cell_type": "markdown",
   "id": "fcedd006-422d-46d0-a7ee-0f7e531498e6",
   "metadata": {},
   "source": [
    "모든 입력 메시지와 출력 메시지에 대해 단일 키를 사용하는 방식"
   ]
  },
  {
   "cell_type": "markdown",
   "id": "2861abb1-e6c1-469e-9c54-7f87454fb2d0",
   "metadata": {},
   "source": [
    "- itemgetter(\"input_messages\")를 사용하여 입력 메시지 추출"
   ]
  },
  {
   "cell_type": "code",
   "execution_count": 23,
   "id": "7decbdda-a51f-49f4-8ebb-51b1c629f871",
   "metadata": {},
   "outputs": [],
   "source": [
    "\n",
    "from operator import itemgetter\n",
    "\n",
    "with_message_history = RunnableWithMessageHistory(\n",
    "    # \"input_messages\" 키를 사용하여 입력 메시지를 가져와 ChatOpenAI()에 전달합니다.\n",
    "    itemgetter(\"input_messages\") | ChatOpenAI(api_key=\"sk-\"),\n",
    "    get_session_history,  # 세션 기록을 가져오는 함수입니다.\n",
    "    input_messages_key=\"input_messages\",  # 입력 메시지의 키를 지정합니다.\n",
    ")"
   ]
  },
  {
   "cell_type": "code",
   "execution_count": 24,
   "id": "97c6c436-8a9c-4898-988b-6051489e9bca",
   "metadata": {},
   "outputs": [
    {
     "data": {
      "text/plain": [
       "AIMessage(content='코사인은 삼각함수 중 하나로, 직각삼각형에서의 각도에 대해 대변과 빗변의 비율을 나타내는 값입니다. 코사인은 주어진 각도의 삼각비를 나타내며, 삼각형의 변 길이를 통해 삼각형의 각도를 계산하거나, 각도를 통해 삼각형의 변 길이를 계산하는 데 사용됩니다.', response_metadata={'token_usage': {'completion_tokens': 146, 'prompt_tokens': 24, 'total_tokens': 170}, 'model_name': 'gpt-3.5-turbo-0125', 'system_fingerprint': None, 'finish_reason': 'stop', 'logprobs': None}, id='run-9f610bcd-f92d-4bf0-add2-e40b580232d4-0', usage_metadata={'input_tokens': 24, 'output_tokens': 146, 'total_tokens': 170})"
      ]
     },
     "execution_count": 24,
     "metadata": {},
     "output_type": "execute_result"
    }
   ],
   "source": [
    "with_message_history.invoke(\n",
    "    {\"input_messages\": \"코사인의 의미는 무엇인가요?\"},\n",
    "    # 설정 옵션을 딕셔너리 형태로 전달합니다.\n",
    "    config={\"configurable\": {\"session_id\": \"xyz123\"}},\n",
    ")"
   ]
  },
  {
   "cell_type": "markdown",
   "id": "1513f79a-bb5a-4b89-9979-61eeb785bc12",
   "metadata": {},
   "source": [
    "# 영구 저장소(Persistent storage)"
   ]
  },
  {
   "cell_type": "markdown",
   "id": "68ab43c6-6817-4fb2-b225-295ce5a804d0",
   "metadata": {},
   "source": [
    "- 영구 저장소(Persistent storage)\n",
    "    - 프로그램이 종료되거나 시스템이 재부팅되더라도 데이터를 유지하는 저장 메커니즘\n",
    "    - 데이터베이스, 파일 시스템, 또는 기타 비휘발성 저장 장치를 통해 구현될 수 있음"
   ]
  },
  {
   "cell_type": "markdown",
   "id": "edba20bf-60b5-428e-a46c-b9aadf478580",
   "metadata": {},
   "source": [
    "- 영구 저장소는 애플리케이션의 상태를 저장하고, 사용자 설정을 유지하며, 장기간 데이터를 보존하는 데 필수적.\n",
    "</br>이를 통해 프로그램은 이전 실행에서 중단된 지점부터 다시 시작할 수 있으며, 사용자는 데이터 손실 없이 작업을 계속 할 수 있음."
   ]
  },
  {
   "cell_type": "markdown",
   "id": "24e1fa3b-aed5-4aca-9d50-e390a13bb821",
   "metadata": {},
   "source": [
    "- RunnableWithMessageHistory는 get_session_history 호출 가능 객체가 채팅 메시지 기록을 어떻게 검색하는지에 대해 독립적\n",
    "- 로컬 파일 시스템을 사용하는 예제: https://github.com/langchainai/langserve/blob/main/examples/chat_with_persistence_and_user/server.py \n",
    "- 다른 제공자를 사용하여 채팅 메시지 기록을 구현하는 방법은 memory integrations 페이지 확인: https://python.langchain.com/v0.2/docs/integrations/platforms/ "
   ]
  },
  {
   "cell_type": "markdown",
   "id": "fe713658-329c-4948-89b8-ead1475db729",
   "metadata": {},
   "source": [
    "<Redis를 사용하는 방법>"
   ]
  },
  {
   "cell_type": "markdown",
   "id": "3c8f1cd0-8b6a-4952-9f0a-570ddc4da09b",
   "metadata": {},
   "source": [
    "## Redis 설치"
   ]
  },
  {
   "cell_type": "code",
   "execution_count": 26,
   "id": "3305a209-ee82-40e0-8925-01f3502a46d6",
   "metadata": {},
   "outputs": [
    {
     "name": "stdout",
     "output_type": "stream",
     "text": [
      "Note: you may need to restart the kernel to use updated packages.\n"
     ]
    }
   ],
   "source": [
    "%pip install -qU redis"
   ]
  },
  {
   "cell_type": "markdown",
   "id": "3aec43b1-bdca-4c1b-b925-9f7798ead392",
   "metadata": {},
   "source": [
    "## Redis 서버 구동"
   ]
  },
  {
   "cell_type": "markdown",
   "id": "3ad68b5c-b0c4-469d-a955-b1d54cbb9c3f",
   "metadata": {},
   "source": [
    "- 기존에 연결할 Redis 배포가 없는 경우, 로컬 Redis Stack 서버 시작\n",
    "- Docker 로 Redis 서버를 구동하는 명령어\n",
    "    - docker run -d -p 6379:6379 -p 8001:8001 redis/redis-stack:latest\n",
    "- REDIS_URL 변수에 Redis 데이터베이스의 연결 URL 할당\n",
    "    - URL은 \"redis://localhost:6379/0\"로 설정"
   ]
  },
  {
   "cell_type": "code",
   "execution_count": 36,
   "id": "3550d299-5d16-4ff9-b650-07cb6556f3df",
   "metadata": {},
   "outputs": [
    {
     "name": "stderr",
     "output_type": "stream",
     "text": [
      "'docker'은(는) 내부 또는 외부 명령, 실행할 수 있는 프로그램, 또는\n",
      "배치 파일이 아닙니다.\n"
     ]
    }
   ],
   "source": [
    "#주피터노트북에서 실행\n",
    "!docker run -d -p 6379:6379 -p 8001:8001 redis/redis-stack:latest"
   ]
  },
  {
   "cell_type": "markdown",
   "id": "ca604658-68ae-4b16-8d88-01e04981deb1",
   "metadata": {},
   "source": [
    "**-> 도커 설치필요..ㅎ**"
   ]
  },
  {
   "cell_type": "code",
   "execution_count": 28,
   "id": "fcb5471c-60b6-461a-86af-d6cd141c3415",
   "metadata": {},
   "outputs": [],
   "source": [
    "# Redis 서버의 URL을 지정합니다.\n",
    "REDIS_URL = \"redis://localhost:6379/0\""
   ]
  },
  {
   "cell_type": "markdown",
   "id": "d08d8ca1-ac1c-4ef0-b8a4-41d9bf2515e9",
   "metadata": {},
   "source": [
    "**LangSmith 추적 설정**"
   ]
  },
  {
   "cell_type": "markdown",
   "id": "d47a0164-0fb4-4c6a-92b9-1875333be073",
   "metadata": {},
   "source": [
    "추적을 위한 LangSmith 설정 </br>\n",
    "LangSmith는 필수적인 것은 아니지만, 도움이 될 수 있음."
   ]
  },
  {
   "cell_type": "code",
   "execution_count": 31,
   "id": "675e8a87-a6d7-44ca-a9ed-ed67dc44c107",
   "metadata": {},
   "outputs": [],
   "source": [
    "from dotenv import load_dotenv\n",
    "import os\n",
    "\n",
    "load_dotenv()\n",
    "\n",
    "# LANGCHAIN_TRACING_V2 환경 변수를 \"true\"로 설정합니다.\n",
    "os.environ[\"LANGCHAIN_TRACING_V2\"] = \"true\"\n",
    "# LANGCHAIN_PROJECT 설정\n",
    "os.environ[\"LANGCHAIN_PROJECT\"] = \"RunnableWithMessageHistory\""
   ]
  },
  {
   "cell_type": "markdown",
   "id": "cabd844a-14d4-461b-ab6f-a6165b795c83",
   "metadata": {},
   "source": [
    "메시지 기록 구현을 업데이트하려면 새로운 호출 가능한 객체를 정의하고, 이번에는 RedisChatMessageHistory의 인스턴스를 반환하면 됨."
   ]
  },
  {
   "cell_type": "code",
   "execution_count": 33,
   "id": "e95ad58d-6bba-4792-a818-a1d4efbf6a41",
   "metadata": {},
   "outputs": [],
   "source": [
    "from langchain_community.chat_message_histories import RedisChatMessageHistory\n",
    "\n",
    "\n",
    "def get_message_history(session_id: str) -> RedisChatMessageHistory:\n",
    "    # 세션 ID를 기반으로 RedisChatMessageHistory 객체를 반환합니다.\n",
    "    return RedisChatMessageHistory(session_id, url=REDIS_URL)\n",
    "\n",
    "\n",
    "with_message_history = RunnableWithMessageHistory(\n",
    "    runnable,  # 실행 가능한 객체\n",
    "    get_message_history,  # 메시지 기록을 가져오는 함수\n",
    "    input_messages_key=\"input\",  # 입력 메시지의 키\n",
    "    history_messages_key=\"history\",  # 기록 메시지의 키\n",
    ")"
   ]
  },
  {
   "cell_type": "markdown",
   "id": "ff5095c8-7a51-488f-9ebe-4e0682f29921",
   "metadata": {
    "scrolled": true
   },
   "source": [
    "이전과 동일한 방식으로 호출 가능"
   ]
  },
  {
   "cell_type": "code",
   "execution_count": null,
   "id": "83b41d7b-d21a-4cbd-8b59-34a9633e72d7",
   "metadata": {},
   "outputs": [],
   "source": [
    "with_message_history.invoke(\n",
    "    # 수학 관련 질문 \"코사인의 의미는 무엇인가요?\"를 입력으로 전달합니다.\n",
    "    {\"ability\": \"math\", \"input\": \"What does cosine mean?\"},\n",
    "    # 설정 옵션으로 세션 ID를 \"redis123\" 로 지정합니다.\n",
    "    config={\"configurable\": {\"session_id\": \"redis123\"}},\n",
    ")"
   ]
  }
 ],
 "metadata": {
  "kernelspec": {
   "display_name": "langchainenv",
   "language": "python",
   "name": "langchainenv"
  },
  "language_info": {
   "codemirror_mode": {
    "name": "ipython",
    "version": 3
   },
   "file_extension": ".py",
   "mimetype": "text/x-python",
   "name": "python",
   "nbconvert_exporter": "python",
   "pygments_lexer": "ipython3",
   "version": "3.12.3"
  }
 },
 "nbformat": 4,
 "nbformat_minor": 5
}
