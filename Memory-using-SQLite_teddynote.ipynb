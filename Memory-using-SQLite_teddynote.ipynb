{
 "cells": [
  {
   "cell_type": "code",
   "execution_count": 1,
   "id": "f3e47fd3-0a80-4856-8f54-e8ec5a47f485",
   "metadata": {},
   "outputs": [],
   "source": [
    "# SQL (SQLAlchemy)"
   ]
  },
  {
   "cell_type": "code",
   "execution_count": 2,
   "id": "351b3b16-6ad4-4a14-ae40-bd33e9ac0cf1",
   "metadata": {},
   "outputs": [
    {
     "name": "stdout",
     "output_type": "stream",
     "text": [
      "Note: you may need to restart the kernel to use updated packages.\n"
     ]
    },
    {
     "name": "stderr",
     "output_type": "stream",
     "text": [
      "  WARNING: The script openai.exe is installed in 'C:\\ProgramData\\Anaconda3\\envs\\langchainenv\\Scripts' which is not on PATH.\n",
      "  Consider adding this directory to PATH or, if you prefer to suppress this warning, use --no-warn-script-location.\n",
      "  WARNING: The script langchain-server.exe is installed in 'C:\\ProgramData\\Anaconda3\\envs\\langchainenv\\Scripts' which is not on PATH.\n",
      "  Consider adding this directory to PATH or, if you prefer to suppress this warning, use --no-warn-script-location.\n"
     ]
    }
   ],
   "source": [
    "%pip install -qU langchain-community SQLAlchemy langchain-openai"
   ]
  },
  {
   "cell_type": "code",
   "execution_count": 10,
   "id": "99de7bfc-1c48-4098-a5ef-c4ec2e3cf16c",
   "metadata": {},
   "outputs": [
    {
     "data": {
      "text/plain": [
       "'\\n1. Session Id - 사용자 이름, 이메일, 채팅 ID 등과 같은 세션의 고유 식별자입니다.\\n2. Connection string - 데이터베이스 연결을 지정하는 문자열입니다. \\n   이 문자열은 SQLAlchemy의 create_engine 함수에 전달됩니다.\\n\\n- SQLChatMessageHistory 클래스를 사용하여 대화 메시지 기록 관리\\n- session_id와 connection_string을 인자로 전달하여 SQLChatMessageHistory 인스턴스 생성\\n- add_user_message 메서드를 사용하여 사용자 메시지를 대화 기록에 추가\\n- add_ai_message 메서드를 사용하여 AI 메시지를 대화 기록에 추가\\n'"
      ]
     },
     "execution_count": 10,
     "metadata": {},
     "output_type": "execute_result"
    }
   ],
   "source": [
    "################ 사용 방법 ################ \n",
    "'''\n",
    "1. Session Id - 사용자 이름, 이메일, 채팅 ID 등과 같은 세션의 고유 식별자입니다.\n",
    "2. Connection string - 데이터베이스 연결을 지정하는 문자열입니다. \n",
    "   이 문자열은 SQLAlchemy의 create_engine 함수에 전달됩니다.\n",
    "\n",
    "- SQLChatMessageHistory 클래스를 사용하여 대화 메시지 기록 관리\n",
    "- session_id와 connection_string을 인자로 전달하여 SQLChatMessageHistory 인스턴스 생성\n",
    "- add_user_message 메서드를 사용하여 사용자 메시지를 대화 기록에 추가\n",
    "- add_ai_message 메서드를 사용하여 AI 메시지를 대화 기록에 추가\n",
    "'''"
   ]
  },
  {
   "cell_type": "code",
   "execution_count": 11,
   "id": "56f2afe6-5b75-47eb-a7ec-3415e9a8ab06",
   "metadata": {},
   "outputs": [
    {
     "name": "stderr",
     "output_type": "stream",
     "text": [
      "C:\\ProgramData\\Anaconda3\\envs\\langchainenv\\Lib\\site-packages\\langchain_community\\chat_message_histories\\sql.py:186: LangChainDeprecationWarning: `connection_string` was deprecated in LangChain 0.2.2 and will be removed in 0.3.0. Use connection instead.\n",
      "  warn_deprecated(\n"
     ]
    }
   ],
   "source": [
    "from langchain_community.chat_message_histories import SQLChatMessageHistory\n",
    "\n",
    "# SQLChatMessageHistory 객체를 생성하고 세션 ID와 데이터베이스 연결 문자열을 전달합니다.\n",
    "chat_message_history = SQLChatMessageHistory(\n",
    "    session_id=\"sql_chat_history\", connection_string=\"sqlite:///sqlite.db\"\n",
    ")\n",
    "\n",
    "# 사용자 메시지를 추가합니다.\n",
    "chat_message_history.add_user_message(\n",
    "    \"Hi! My name is Teddy. I am a AI programmer. Nice to meet you!\"\n",
    ")\n",
    "# AI 메시지를 추가합니다.\n",
    "chat_message_history.add_ai_message(\"Hi Teddy! Nice to meet you too!\")"
   ]
  },
  {
   "cell_type": "code",
   "execution_count": 12,
   "id": "93ea0cc2-8b08-4bb8-95a5-ee20ea848eb7",
   "metadata": {},
   "outputs": [
    {
     "data": {
      "text/plain": [
       "[HumanMessage(content='Hi! My name is Teddy. I am a AI programmer. Nice to meet you!'),\n",
       " AIMessage(content='Hi Teddy! Nice to meet you too!')]"
      ]
     },
     "execution_count": 12,
     "metadata": {},
     "output_type": "execute_result"
    }
   ],
   "source": [
    "# 채팅 메시지 기록의 메시지들\n",
    "chat_message_history.messages"
   ]
  },
  {
   "cell_type": "code",
   "execution_count": 13,
   "id": "5d8a8b55-87e0-47f9-a71d-d6562922d04a",
   "metadata": {},
   "outputs": [],
   "source": [
    "### Chain 에 적용 ###"
   ]
  },
  {
   "cell_type": "code",
   "execution_count": 14,
   "id": "d56dc163-649c-49b7-9902-f5db0a63484d",
   "metadata": {},
   "outputs": [],
   "source": [
    "from langchain_core.prompts import (\n",
    "    ChatPromptTemplate,\n",
    "    MessagesPlaceholder,\n",
    ")\n",
    "from langchain_core.runnables.history import RunnableWithMessageHistory\n",
    "from langchain_openai import ChatOpenAI"
   ]
  },
  {
   "cell_type": "code",
   "execution_count": 15,
   "id": "f32b8bf5-24a2-4341-bdbf-5b34a8144d43",
   "metadata": {},
   "outputs": [
    {
     "data": {
      "text/plain": [
       "'\\nChatPromptTemplate을 사용하여 프롬프트 템플릿 정의\\n    - \"system\" 메시지: \"You are a helpful assistant.\"\\n    - MessagesPlaceholder를 사용하여 \"history\" 변수를 프롬프트에 포함\\n    - \"human\" 메시지: \"{question}\"\\n프롬프트 템플릿과 ChatOpenAI 모델을 파이프라인으로 연결하여 chain 생성\\n'"
      ]
     },
     "execution_count": 15,
     "metadata": {},
     "output_type": "execute_result"
    }
   ],
   "source": [
    "'''\n",
    "ChatPromptTemplate을 사용하여 프롬프트 템플릿 정의\n",
    "    - \"system\" 메시지: \"You are a helpful assistant.\"\n",
    "    - MessagesPlaceholder를 사용하여 \"history\" 변수를 프롬프트에 포함\n",
    "    - \"human\" 메시지: \"{question}\"\n",
    "프롬프트 템플릿과 ChatOpenAI 모델을 파이프라인으로 연결하여 chain 생성\n",
    "'''"
   ]
  },
  {
   "cell_type": "code",
   "execution_count": 24,
   "id": "1047c950-4930-46f2-878d-4b866a24199e",
   "metadata": {},
   "outputs": [],
   "source": [
    "import openai\n",
    "\n",
    "prompt = ChatPromptTemplate.from_messages(\n",
    "    [\n",
    "        # 시스템 메시지를 설정하여 어시스턴트의 역할을 정의합니다.\n",
    "        (\"system\", \"You are a helpful assistant.\"),\n",
    "        # 이전 대화 내용을 포함하기 위한 플레이스홀더를 추가합니다.\n",
    "        MessagesPlaceholder(variable_name=\"history\"),\n",
    "        (\"human\", \"{question}\"),  # 사용자의 질문을 입력받는 메시지를 설정합니다.\n",
    "    ]\n",
    ")\n",
    "\n",
    "chain = (\n",
    "    prompt | ChatOpenAI(api_key = \"sk-\")\n",
    ")  # 프롬프트와 ChatOpenAI 모델을 연결하여 체인을 생성합니다."
   ]
  },
  {
   "cell_type": "code",
   "execution_count": 25,
   "id": "999e377b-f8d4-4f71-8353-c6565ce79867",
   "metadata": {},
   "outputs": [
    {
     "data": {
      "text/plain": [
       "'\\n- RunnableWithMessageHistory 클래스를 사용하여 chain과 메시지 기록 연결\\n- lambda 함수를 사용하여 session_id에 따라 SQLChatMessageHistory 인스턴스 생성\\n    - SQLChatMessageHistory는 SQLite 데이터베이스(sqlite.db)에 연결되어 채팅 메시지 기록 저장\\n- input_messages_key를 \"question\"으로 설정하여 입력 메시지의 키 지정\\n- history_messages_key를 \"history\"로 설정하여 기록 메시지의 키 지정\\n'"
      ]
     },
     "execution_count": 25,
     "metadata": {},
     "output_type": "execute_result"
    }
   ],
   "source": [
    "'''\n",
    "- RunnableWithMessageHistory 클래스를 사용하여 chain과 메시지 기록 연결\n",
    "- lambda 함수를 사용하여 session_id에 따라 SQLChatMessageHistory 인스턴스 생성\n",
    "    - SQLChatMessageHistory는 SQLite 데이터베이스(sqlite.db)에 연결되어 채팅 메시지 기록 저장\n",
    "- input_messages_key를 \"question\"으로 설정하여 입력 메시지의 키 지정\n",
    "- history_messages_key를 \"history\"로 설정하여 기록 메시지의 키 지정\n",
    "'''"
   ]
  },
  {
   "cell_type": "code",
   "execution_count": 26,
   "id": "35ff54f1-6279-4b4b-931e-06a38fc1d5b4",
   "metadata": {},
   "outputs": [],
   "source": [
    "chain_with_history = RunnableWithMessageHistory(\n",
    "    chain,\n",
    "    lambda session_id: SQLChatMessageHistory(\n",
    "        session_id=session_id, connection_string=\"sqlite:///sqlite.db\"\n",
    "    ),  # session_id를 기반으로 SQLChatMessageHistory 객체를 생성하는 람다 함수\n",
    "    input_messages_key=\"question\",  # 입력 메시지의 키를 \"question\"으로 설정\n",
    "    history_messages_key=\"history\",  # 대화 기록 메시지의 키를 \"history\"로 설정\n",
    ")"
   ]
  },
  {
   "cell_type": "code",
   "execution_count": 27,
   "id": "1225d8a7-04e5-4b69-b197-def71a08f078",
   "metadata": {},
   "outputs": [],
   "source": [
    "#config 딕셔너리를 정의하고, \"configurable\" 키 아래에 \"session_id\" 키-값 쌍 설정"
   ]
  },
  {
   "cell_type": "code",
   "execution_count": 28,
   "id": "770ae8f9-017a-4b97-956d-df5356020091",
   "metadata": {},
   "outputs": [],
   "source": [
    "# 세션 ID를 구성하는 곳입니다.\n",
    "config = {\"configurable\": {\"session_id\": \"sql_chat_history\"}}"
   ]
  },
  {
   "cell_type": "code",
   "execution_count": 29,
   "id": "7f925b77-cd2d-434b-9d38-bf2dbcbc7f68",
   "metadata": {},
   "outputs": [],
   "source": [
    "# ex) 질문에 이름을 물어보는 질문"
   ]
  },
  {
   "cell_type": "code",
   "execution_count": 30,
   "id": "561a88a5-30b8-437e-8295-be65deba4c14",
   "metadata": {},
   "outputs": [],
   "source": [
    "# chain_with_history 객체의 invoke 메서드를 호출하여 질문에 대한 답변 생성\n",
    "# invoke 메서드에는 질문 딕셔너리와 config 설정 전달"
   ]
  },
  {
   "cell_type": "code",
   "execution_count": 31,
   "id": "ca6b3070-13b7-47be-aba9-b88356db591f",
   "metadata": {},
   "outputs": [
    {
     "data": {
      "text/plain": [
       "AIMessage(content='Your name is Teddy.', response_metadata={'token_usage': {'completion_tokens': 5, 'prompt_tokens': 56, 'total_tokens': 61}, 'model_name': 'gpt-3.5-turbo-0125', 'system_fingerprint': None, 'finish_reason': 'stop', 'logprobs': None}, id='run-4f24a702-b9cb-42bb-a6c0-db386575c0a4-0', usage_metadata={'input_tokens': 56, 'output_tokens': 5, 'total_tokens': 61})"
      ]
     },
     "execution_count": 31,
     "metadata": {},
     "output_type": "execute_result"
    },
    {
     "name": "stderr",
     "output_type": "stream",
     "text": [
      "Failed to batch ingest runs: LangSmithError('Failed to POST https://api.smith.langchain.com/runs/batch in LangSmith API. HTTPError(\\'403 Client Error: Forbidden for url: https://api.smith.langchain.com/runs/batch\\', \\'{\"detail\":\"Forbidden\"}\\')')\n",
      "Failed to batch ingest runs: LangSmithError('Failed to POST https://api.smith.langchain.com/runs/batch in LangSmith API. HTTPError(\\'403 Client Error: Forbidden for url: https://api.smith.langchain.com/runs/batch\\', \\'{\"detail\":\"Forbidden\"}\\')')\n"
     ]
    }
   ],
   "source": [
    "# 질문 \"Whats my name\"과 설정을 사용하여 대화 기록이 있는 체인을 호출합니다.\n",
    "chain_with_history.invoke({\"question\": \"Whats my name?\"}, config=config)"
   ]
  }
 ],
 "metadata": {
  "kernelspec": {
   "display_name": "langchainenv",
   "language": "python",
   "name": "langchainenv"
  },
  "language_info": {
   "codemirror_mode": {
    "name": "ipython",
    "version": 3
   },
   "file_extension": ".py",
   "mimetype": "text/x-python",
   "name": "python",
   "nbconvert_exporter": "python",
   "pygments_lexer": "ipython3",
   "version": "3.12.3"
  }
 },
 "nbformat": 4,
 "nbformat_minor": 5
}
