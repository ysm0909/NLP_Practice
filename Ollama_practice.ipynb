{
 "cells": [
  {
   "cell_type": "markdown",
   "id": "d4397c03-f417-474d-8604-85ded602723d",
   "metadata": {},
   "source": [
    "# 설치"
   ]
  },
  {
   "cell_type": "markdown",
   "id": "fc56a567-f598-4475-9b96-76b404af45d9",
   "metadata": {},
   "source": [
    "- 프로그램 설치"
   ]
  },
  {
   "cell_type": "markdown",
   "id": "bdfa07fb-eba9-4b19-90bc-36c7d0b642c2",
   "metadata": {},
   "source": [
    "설치주소: https://ollama.com/"
   ]
  },
  {
   "cell_type": "markdown",
   "id": "d966a3ec-199c-409e-a03f-b0b90801bdd1",
   "metadata": {},
   "source": [
    "# Ex1) 1-1-3. 올라마(Ollama) 모델에 랭체인(LangChain) 적용"
   ]
  },
  {
   "cell_type": "code",
   "execution_count": 17,
   "id": "c669ab89-57da-4b8a-8675-f36d1f34d511",
   "metadata": {},
   "outputs": [],
   "source": [
    "# https://wikidocs.net/238532"
   ]
  },
  {
   "cell_type": "code",
   "execution_count": 12,
   "id": "a8d6f6a7-f0b4-4352-b2f9-3172c48ca84d",
   "metadata": {},
   "outputs": [],
   "source": [
    "from langchain_community.llms import Ollama\n",
    "# model\n",
    "llm = Ollama(model=\"llama3\")\n",
    "\n",
    "# chain 실행\n",
    "response = llm.invoke(\"지구의 자전 주기는?\")"
   ]
  },
  {
   "cell_type": "code",
   "execution_count": 13,
   "id": "15e7e7ca-189d-4e64-bad8-77a54e0dcdcd",
   "metadata": {},
   "outputs": [
    {
     "data": {
      "text/plain": [
       "\"🌎\\n\\nThe Earth's rotational period, also known as its day length or solar day, is approximately 24 hours. This is the time it takes for the Earth to rotate once on its axis relative to the Sun.\\n\\nTo be more precise, the Earth's rotational period is:\\n\\n* 23 hours, 56 minutes, and 4.09 seconds (sidereal day), which is the time it takes the Earth to rotate once relative to the fixed stars.\\n* 24 hours (solar day), which is the time it takes the Earth to rotate once relative to the Sun.\\n\\nThese two periods are very close, but not exactly equal due to the Earth's slightly ellipsoidal shape and the way its axis wobbles over a period of about 26,000 years.\""
      ]
     },
     "execution_count": 13,
     "metadata": {},
     "output_type": "execute_result"
    }
   ],
   "source": [
    "response"
   ]
  },
  {
   "cell_type": "code",
   "execution_count": 14,
   "id": "ea04ce87-ca90-4389-b86e-13411bc4dc38",
   "metadata": {},
   "outputs": [],
   "source": [
    "from langchain_core.prompts import ChatPromptTemplate\n",
    "\n",
    "prompt = ChatPromptTemplate.from_template(\"You are an expert in astronomy. Answer the question. Please answer in Korean. <Question>: {input}\")\n",
    "\n",
    "# chain 연결 (LCEL)\n",
    "chain = prompt | llm\n",
    "\n",
    "# chain 호출\n",
    "response = chain.invoke({\"input\": \"지구의 자전 주기는?\"})"
   ]
  },
  {
   "cell_type": "code",
   "execution_count": 16,
   "id": "57bb6fec-5408-4ed8-8a24-85cfd6c70b92",
   "metadata": {},
   "outputs": [
    {
     "data": {
      "text/plain": [
       "\"🌠️\\n\\n지구의 자전 주기는 약 24시간입니다. 지구가 회전하면서 일주일이 걸리는 것은 아니고, 실제로는 하루에 한 번씩 일주일이 되는데, 이를 '일주일'이라고 합니다. 이와는 다르게 지구의 자전 주기는 항상 24시간으로 유지됩니다.\\n\\n(Translation: The Earth's rotational period is approximately 24 hours. It does not take a week to complete one rotation, but rather it takes 24 hours for the Earth to rotate once on its axis. On the other hand, the Earth's rotational period is always maintained at 24 hours.)\""
      ]
     },
     "execution_count": 16,
     "metadata": {},
     "output_type": "execute_result"
    }
   ],
   "source": [
    "response"
   ]
  },
  {
   "cell_type": "markdown",
   "id": "d5117358-731e-41c6-a5ce-367688430882",
   "metadata": {},
   "source": [
    "# Ex2) 노래가사 챗봇 생성"
   ]
  },
  {
   "cell_type": "code",
   "execution_count": 18,
   "id": "41f7a4be-a2b8-4062-b654-24cbc2c7b7fa",
   "metadata": {},
   "outputs": [],
   "source": [
    "# https://brunch.co.kr/@b2439ea8fc654b8/28"
   ]
  },
  {
   "cell_type": "code",
   "execution_count": 30,
   "id": "ed30a37b-ecc1-4cd9-92c1-3464de2e5554",
   "metadata": {},
   "outputs": [],
   "source": [
    "from langchain_community.llms import Ollama\n",
    "from langchain import PromptTemplate\n",
    "\n",
    "llm = Ollama(model=\"llama3\", stop=[\"<|eot_id|>\"]) # Added stop token\n",
    "\n",
    "def get_model_response(user_prompt, system_prompt):\n",
    "    template = \"\"\"\n",
    "        <|begin_of_text|>\n",
    "        <|start_header_id|>system<|end_header_id|>\n",
    "        {system_prompt}\n",
    "        <|start_header_id|>user<|end_header_id|>\n",
    "        {user_prompt}\n",
    "        <|start_header_id|>assistant<|end_header_id|>\n",
    "        \"\"\"\n",
    "    # Added prompt template\n",
    "    prompt = PromptTemplate(\n",
    "        input_variables=[\"system_prompt\", \"user_prompt\"],\n",
    "        template=template\n",
    "    )\n",
    "    \n",
    "    # Modified invoking the model\n",
    "    response = llm(prompt.format(system_prompt=system_prompt, user_prompt=user_prompt))\n",
    "    \n",
    "    return response"
   ]
  },
  {
   "cell_type": "code",
   "execution_count": 31,
   "id": "a98c0fb1-b74f-4fe7-8088-b7ad8f5c6a08",
   "metadata": {},
   "outputs": [
    {
     "data": {
      "text/plain": [
       "'Here\\'s a song lyrics I came up with, inspired by the phrase \"곰세마리\" (Gomsemari) which means \"A big bear\":\\n\\n**Title:** 곰세마리 (Gomsemari)\\n\\n**Verse 1:**\\n숲속에서 지쳐있는 곰세마리\\n아무도 모르는 비밀을 간직해\\n너의 등에는 별이 돋은 것 같아\\n하지만 당신은 나의 등을 보지 않네\\n\\n**Chorus:**\\n곰세마리, 곰세마리\\n나와 함께 걸어보자, 강물 따라\\n곰세마리, 곰세마리\\n내 마음에 있는 별이 빛나네\\n\\n**Verse 2:**\\n산골짜里的 물방울은 음악을 짓네\\n너의 숨소리는 나의 인생을 노래네\\n하지만 당신은 나의 손을 잡지 않네\\n그래도 나는 당신에게 간절히 소원해\\n\\n**Chorus:**\\n곰세마리, 곰세마리\\n나와 함께 걸어보자, 강물 따라\\n곰세마리, 곰세마리\\n내 마음에 있는 별이 빛나네\\n\\n**Bridge:**\\n이제는 끝난다, 가을의 마지막 날\\n너와 나는 다시 만나게 될 것 같네\\n그때는 우리는 함께 걸음직한 길을 가겠네\\n곰세마리와 함께, 강물 따라\\n\\n**Chorus:**\\n곰세마리, 곰세마리\\n나와 함께 걸어보자, 강물 따라\\n곰세마리, 곰세마리\\n내 마음에 있는 별이 빛나네\\n\\nTranslation:\\n\\n**Title:** Gomsemari (A Big Bear)\\n\\n**Verse 1:**\\nThe big bear living in the forest\\nGuards a secret that no one knows\\nYour back has stars shining on it like\\nBut you don\\'t look at my back\\n\\n**Chorus:**\\nGomsemari, Gomsemari\\nLet\\'s walk together, following the river\\nGomsemari, Gomsemari\\nThe star in my heart is shining\\n\\n**Verse 2:**\\nThe droplets of water in the valley create music\\nYour breath is singing the song of my life\\nBut you don\\'t hold my hand\\nSo I\\'ll long for you with all my might\\n\\n**Chorus:**\\nGomsemari, Gomsemari\\nLet\\'s walk together, following the river\\nGomsemari, Gomsemari\\nThe star in my heart is shining\\n\\n**Bridge:**\\nNow it\\'s ending, the last day of autumn\\nI think we\\'ll meet again someday\\nThen we\\'ll take a path that we can walk together\\nWith the big bear and following the river\\n\\n**Chorus:**\\nGomsemari, Gomsemari\\nLet\\'s walk together, following the river\\nGomsemari, Gomsemari\\nThe star in my heart is shining'"
      ]
     },
     "execution_count": 31,
     "metadata": {},
     "output_type": "execute_result"
    }
   ],
   "source": [
    "get_model_response(\"곰세마리\",\"노래가사 작성해주세요.한국어로\")"
   ]
  },
  {
   "cell_type": "markdown",
   "id": "038615f2-3295-4807-b251-153977dcedf1",
   "metadata": {},
   "source": [
    "# Ex)"
   ]
  },
  {
   "cell_type": "code",
   "execution_count": 32,
   "id": "a3507e75-2331-4bfe-bfdd-5305af0f03d2",
   "metadata": {},
   "outputs": [],
   "source": [
    "# https://wikidocs.net/233805"
   ]
  },
  {
   "cell_type": "code",
   "execution_count": 36,
   "id": "71dfe29b-f256-427b-9f52-3adc3d0ae202",
   "metadata": {},
   "outputs": [],
   "source": [
    "# https://github.com/teddylee777/langserve_ollama/blob/main/example/00-ollama-test.ipynb"
   ]
  }
 ],
 "metadata": {
  "kernelspec": {
   "display_name": "langchainenv",
   "language": "python",
   "name": "langchainenv"
  },
  "language_info": {
   "codemirror_mode": {
    "name": "ipython",
    "version": 3
   },
   "file_extension": ".py",
   "mimetype": "text/x-python",
   "name": "python",
   "nbconvert_exporter": "python",
   "pygments_lexer": "ipython3",
   "version": "3.12.3"
  }
 },
 "nbformat": 4,
 "nbformat_minor": 5
}
